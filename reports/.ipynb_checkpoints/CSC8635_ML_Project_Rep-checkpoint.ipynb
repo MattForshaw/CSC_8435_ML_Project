{
 "cells": [
  {
   "cell_type": "markdown",
   "metadata": {},
   "source": [
    "# Deep Learning for Medical Point-of-Care: Using Neural Networks to Diagnose Skin Cancer\n",
    "\n",
    "Author: \"Mark R. Tyrrell\"\n",
    "Module: CSC8635 Machine Learning"
   ]
  },
  {
   "cell_type": "markdown",
   "metadata": {},
   "source": [
    "# Introduction\n",
    "The increased accuracy and agility of machine learning in recent years has pushed usability of the technology to the frontiers of many fields. This phenomenon is readily apparent in the field of medicine, where deep learning algorithms are being used for medical imaging analyses (Shen et al. 2017). The coincident emphasis on point-of-care testing (POCT) - replicating lab capacities at the clinical level - in the policy frameworks of many national health services further drives demand for these technologies. Applications of deep learning for POTC can improve patient outcomes by providing frontline clinicians with the tools necessary to make expert diagnoses without the need for specialist referrals. This in turn can decrease treatment lead-time, allowing for quicker intervention and better prognoses. \n",
    "\n",
    "This study examines the viability of developing and deploying a deep learning algorithm for a POCT application using publicly available data and commercial off-the-shelf (COTS) computing equipment. A convolutional neural network (CNN) will be used to analyse images of skin lesions in order to diagnosis the presence of skin cancer. The results will be compared with human expert assessment.\n",
    "\n",
    "# Background\n",
    "\n",
    "The prevalence of melanoma has increased steadily per capita since 1975 and continues to grow at 2.6 percent annually in the United States (Siegal et al. 2018; Higgens et al. 2014). Though low compared with other cancers, the mortality rate of melanoma is 8% in the United States (Siegal et al. 2018). This statistic highlights the relatively high survivability of this type of cancer, owing primarily to its visibility. In most cases malignant melanoma are identified early, and are subsequently curable. Conversely, treatment for metastasised melanoma is limited, resulting in a 5-year survival rate for stage-four melanoma of less than 15 percent (Higgens et al. 2014), underscoring the importance of early and accurate diagnoses. \n",
    "\n",
    "Malformed, mixed-pigmented and growing skin lesions are often readily apparent to patients and to primary healthcare providers while conducting physicals. Manual inspection of skin lesions using the Asymmetry, Border irregularity, Color variegation, Diameter >6 mm (ABCD) method for identifying potential malignancies has been the norm since 1985 and provides a first layer of screening with varying degrees of efficacy (Abbasi et al. 2004). If a malignancy is suspected, patients are referred to a determatologist for further screening. \n",
    "\n",
    "More advanced clinical-level diagnosis techniques such as dermatoscopy provide increased accuracy. However, this technology still requires the expertise of highly-trained specialists (Ebell 2008). Clearly there is a need to provide primary healthcare workers with easily applied, powerful diagnostic tools in order to identify malignant skin lesions prior to metastatic progression of the cancer. \n",
    "\n",
    "Computer vision is a logical candidate technology for automated skin cancer diagnosis. Deep learning algorithms have advanced steadily over the past two decades. CNNs can now match humans in simple object detection, and are being applied to many facets of medical imaging (Shen et al. 2017). The development of algorithms to detect melanomas and other skin cancers has been facilated by the recent release of the HAM10000 dataset (Tschandl et al. 2018). At the same time, open source machine learning libraries, cloud computing and smartphone cameras have made the training and deployment of CNNs accessible. Combined, these technologies and resources can be used to produce a cheap and accurate tool for diagnosing malignant skin lesions. This paper will demonstrate the simple development and deployment of a prototype diagnostic tool as proof-of-concept.  "
   ]
  },
  {
   "cell_type": "markdown",
   "metadata": {},
   "source": [
    "# Methodology\n",
    "In keeping with the goal of producing an affordable tool for diagnosing skin cancer, this project made exclusive use of open source toolkits. All data processing was accomplished using Python. The development of the CNN used the Python Keras library exclusively. Keras is a wrapper API on the Tensorflow library, and allows quick deployment of deep learning models with a user friendly syntax. \n",
    "\n",
    "Training of the CNN was conducted using ad hoc cloud computing resources. Microsoft Azure provides an array of different services including virtual machines (VMs) exclusively designed for machine learning tasks. This project utitlised an Azure NC6 Deep Learning VM with 6 virtual CPUs, 56 GB memory and a dedicated NVIDIA GPU. The total online time for the VM including setup time, code debugging and parameter optimisation was approximately 20 hours. The cost for this cloud-based resource was just over £20, making it highly applicable for this project.\n",
    "\n",
    "Reproducibility of the model has been ensured by setting random seeds for stochastic processes, as well as providing all source code. Additionally, an archived folder is available containing the original ipython notebook file, supplemental scripts in .py format, and saved keras models. The folder is structured for standard data mining projects, including subfolders for data, cache, munge and source files. As the model building flow involves operations which require extended processing time, key output objects have been cached. The objects are called along the progression of the script, while the original code is also included in comments. Detailed instructions for reproducing the model are included in the main README file.\n",
    "\n",
    "\n",
    "\n",
    "## Data Understanding\n",
    "The HAM10000 dataset primarily consists of 10015 medium resolution images of seven different types of skin lesions, comprising 95 percent of lesions encountered in standard clinical practice (Tschandl et al. 2018). The images are preprocessed to ensure a minimal standard of contrast, focus and magnification of the lesion. The ground truth for each image is contained in an accompanying csv file along with metadata including the age and sex of the subject, the location of the lesion on the body, and the diagnosis method.\n",
    "\n",
    "The patient descriptor variables included in the metadata file such as age and sex could be used to contribute to the model. Age in particular has a direct positive correlation with increased prevalence of melanoma (Siegal et al. 2018). These correlations are well known to health care professionals and form the basis of screening regimes. As this project focuses on the use of innovative uses of image analysis for diagnoses, the model will exclude the metadata variables and only utilise the skin lesion images for model building.\n",
    "\n",
    "Table displays the quantity of each type of skin lesion represented in the dataset. While the dataset in total contains a reasonable quantity of data for training, the data are highly imbalanced. Melanocytic Nevi comprises the majority of the samples (67%). This is problematic and can detrimentally affect classification performance (Buda et al. 2018). As the prior probability of any of the samples being Melanocytic is very high at 67 percent, the model accuracy will be biased toward selecting this class. The effect is clearly evidenced by observing the training process. The accuracy performance of the first epoch is no less than 66 percent in most trials. Additionally, the size of the dataset in this case further compounds the problem. The remaining 3310 samples are divided amongst the minority categories. Some categories contain less than 200 samples. This is insufficient for training a reliable classifier. \n",
    "\n",
    "\n",
    "\n",
    "\n",
    "| Diagnostic Category | n |\n",
    "|:------|:-----:|\n",
    "|   Actinic Keratoses  | 327|\n",
    "|   Basal Cell Carcinoma  | 514|\n",
    "|   Benign Keratosis  | 1099|\n",
    "|   Dermatofibroma  | 115|\n",
    "|   Melanoma | 1113|\n",
    "|   Melanocytic Nevi  | 6705|\n",
    "|   Vascular  | 142 |\n",
    "\n",
    "**Table 1: HAM10000 Image data quantity by ground truth category**\n",
    "\n",
    "The imbalance in the dataset can be adjusted by dropping overrepresented samples, artificially increasing underrepresented samples, or a combination of both. Due to the relatively small size of the dataset, the only viable option in this case is oversampling the minority categories. The naive method for this involves creating duplicates of minority samples, ideally resulting in an even distribution of the categories. Further methods involve interpolation between samples of the same category to create new samples, for instance synthetic minority oversampling technique (SMOTE). However, due to the excessive implementation requirements of these methods, both  oversampling is beyond the scope of this study. \n",
    "\n",
    "Transfer learning provides yet another avenue for tackling the issues with the dataset. This is accomplished by using the convolutional and pooling layers of a CNN trained on another dataset, then adapting the fully connected layers to the target dataset and retraining. This technique is widely used and has proven to be effective in challenging contexts (Ramcharan et al. 2017). The Keras implementation of Transfer learning was used with the InceptionV3 ImageNet pre-trained CNN during model development.\n",
    "\n",
    "Batch normalisation was utilised on the first layer to mitigate the issues caused by imbalance during model development. This method attempts to provide a normally distributed sample of the dataset to the input batch for each epoch. The algorithm can improve overall performance of CNNs as well as exhibit regularisation effects (Ioffe and Szegedy 2015). Surprisingly the model did not perform as well with batch normalisation enabled, and it was therefore removed from the final model."
   ]
  },
  {
   "cell_type": "markdown",
   "metadata": {},
   "source": [
    "## Data Preparation\n",
    "The preparation of the data involves identifying the jpeg file paths from multiple folder locations, then merging the file paths vector with the metadata file. These file paths are then used to source the files, resizing and converting them to numpy arrays and inserting them into a new column in the metadata file. "
   ]
  },
  {
   "cell_type": "code",
   "execution_count": 128,
   "metadata": {},
   "outputs": [],
   "source": [
    "# Assign project template directory\n",
    "project_dir = \"/Users/MT/Desktop/DS_Projects/CSC8635_ML_Project\"\n",
    "# Assign test number\n",
    "test_n = '1822-05'"
   ]
  },
  {
   "cell_type": "code",
   "execution_count": 2,
   "metadata": {},
   "outputs": [
    {
     "name": "stderr",
     "output_type": "stream",
     "text": [
      "Using TensorFlow backend.\n"
     ]
    }
   ],
   "source": [
    "# Load standard data processing libraries\n",
    "%matplotlib inline\n",
    "import matplotlib\n",
    "import matplotlib.pyplot as plt\n",
    "import numpy as np\n",
    "import pandas as pd\n",
    "import os\n",
    "from glob import glob\n",
    "from PIL import Image\n",
    "from numpy import array\n",
    "from numpy import argmax\n",
    "from sklearn.preprocessing import LabelEncoder\n",
    "from sklearn.preprocessing import OneHotEncoder\n",
    "from sklearn.model_selection import train_test_split\n",
    "from keras.utils.np_utils import to_categorical\n",
    "\n",
    "# Import metadata df\n",
    "meta = pd.read_csv(os.path.join(project_dir,\"data\",\"HAM10000_metadata.csv\"))\n",
    "# Iterate through data_dir looking for jpg files and append to images_ls\n",
    "images_ls = []\n",
    "for dir,_,_ in os.walk(project_dir):\n",
    "    images_ls.extend(glob(os.path.join(dir,\"*.jpg\"))) \n",
    "\n",
    "# Convert images_ls to dataframe and assign variable name\n",
    "images_df = pd.DataFrame(images_ls)\n",
    "images_df.columns = ['path']\n",
    "\n",
    "# Extract image id from path for join with meta df\n",
    "images_df['image_id'] = images_df['path'].str[-16:-4]\n",
    "\n",
    "# Join image_df with meta on image id\n",
    "meta = pd.merge(meta, images_df, how='left', on=['image_id'])"
   ]
  },
  {
   "cell_type": "markdown",
   "metadata": {},
   "source": [
    "The image data is provided in 600x450 pixel jpeg files. As higher-resolution imaging requires exponentially higher processing capability, the images were first resized to 100x75, maintaining the original aspect ratio. The resize operation requires considerable processing time, and therefore the output dataframe is cached as a *pickle* file to allow quick reloading. "
   ]
  },
  {
   "cell_type": "code",
   "execution_count": 3,
   "metadata": {},
   "outputs": [],
   "source": [
    "# Iterate through images, resizing down to to 100x75 pixels, converting to array and inserting into new column\n",
    "# (uncomment to use)\n",
    "#meta['image'] = meta['path'].map(lambda x: np.asarray(Image.open(x).resize((100,75))))\n",
    "\n",
    "# Cache result (uncomment to use)\n",
    "#meta.to_pickle(os.path.join(project_dir,\"cache/meta_cache.p\"))\n",
    "\n",
    "# Import cached metadata df (uncomment to implement)\n",
    "meta = pd.read_pickle(os.path.join(project_dir,\"cache\",\"meta_cache.p\"))"
   ]
  },
  {
   "cell_type": "code",
   "execution_count": 126,
   "metadata": {
    "scrolled": true
   },
   "outputs": [],
   "source": [
    "# Save frequency of each class (used for ROC analysis)\n",
    "class_df = pd.DataFrame(meta['dx'].value_counts())\n",
    "class_df.columns = ['n']\n",
    "class_df['dx'] = ['nv', 'mel', 'bkl', 'bcc', 'akiec', 'vasc', 'df']\n",
    "class_df = class_df.sort_values(by=['dx'])"
   ]
  },
  {
   "cell_type": "markdown",
   "metadata": {},
   "source": [
    "Next the response and predictor variables are independently separated from the **meta** dataframe as vectors. The response vector **Y** contains the 7 skin lesion categories in string form. These categories are converted to integers, then into categories using *one-hot encoding*. \n",
    "\n",
    "The **X** vector contains the arrays of resized images of skin lesions. The array values are converted to floats, then centered by subtracting the mean of the vector, and normalised by dividing by the standard deviation of the vector.\n",
    "\n",
    "The vectors are then split twice using the **sklearn** *train-test-split* function. The first split separates allocates 10 percent of the data for post-training evaluation. The second split allocates 10 percent of the data for training cross-validation. A random seed is set for each split to ensure reproducibility.  "
   ]
  },
  {
   "cell_type": "code",
   "execution_count": 38,
   "metadata": {
    "scrolled": true
   },
   "outputs": [],
   "source": [
    "# Extract predictor variable (images) and labels as seperate vectors\n",
    "X=meta['image']\n",
    "Y=meta['dx']\n",
    "\n",
    "# Integer encode each response category and then one-hot encode\n",
    "label_encoder = LabelEncoder()\n",
    "Y = label_encoder.fit_transform(Y)\n",
    "# List encoded classes (0 through 6) and store\n",
    "class_list = list(label_encoder.classes_)\n",
    "# One-hot encode class integers\n",
    "Y = to_categorical(Y, num_classes = 7)\n",
    "\n",
    "# Iterate through images vector and normalise image array (divide by max RGB value = 255)\n",
    "X = np.asarray(meta['image'].tolist())\n",
    "X = X.astype('float32')\n",
    "X -= np.mean(X, axis=0)\n",
    "X /= np.std(X, axis=0)\n",
    "\n",
    "# Split test/train set for predictor and label variables\n",
    "X_train, X_test, Y_train, Y_test = train_test_split(X, Y, test_size=0.1,random_state=10)\n",
    "\n",
    "# Split training set further for cross validation (NOT used for talos optimisation)\n",
    "X_train, X_val, Y_train, Y_val = train_test_split(X_train, Y_train, test_size = 0.1, random_state = 10) "
   ]
  },
  {
   "cell_type": "markdown",
   "metadata": {},
   "source": [
    "## Data Modeling\n",
    "The CNN was constructed using the Keras API for Tensorflow. The Keras package is optimised for GPU operation, providing relatively quick training time when implemented on a GPU-enabled machine. Hyper-parameter optimisation was accomplished using the Talos library."
   ]
  },
  {
   "cell_type": "code",
   "execution_count": 5,
   "metadata": {},
   "outputs": [],
   "source": [
    "# Import keras utilities\n",
    "import keras\n",
    "from keras.utils.np_utils import to_categorical\n",
    "from keras.models import Sequential\n",
    "from keras.layers import Dense, Dropout, Flatten, Conv2D, MaxPool2D\n",
    "from keras import backend as K\n",
    "import itertools\n",
    "from keras.layers.normalization import BatchNormalization\n",
    "from keras.utils.np_utils import to_categorical \n",
    "from keras.optimizers import Adam\n",
    "from keras.preprocessing.image import ImageDataGenerator\n",
    "from keras.callbacks import ReduceLROnPlateau"
   ]
  },
  {
   "cell_type": "markdown",
   "metadata": {},
   "source": [
    "The final model consisted of 2 separate sets of 2 convolutional layers with 32 filter layers each. Each set was followed by a pooling layer and set for differing dropout levels for regularisation. The hyper-parameter optimisation process resulted in RELU selected as the activation function for these layers. \n",
    "\n",
    "The resulting model is shown below."
   ]
  },
  {
   "cell_type": "code",
   "execution_count": 6,
   "metadata": {},
   "outputs": [
    {
     "name": "stdout",
     "output_type": "stream",
     "text": [
      "_________________________________________________________________\n",
      "Layer (type)                 Output Shape              Param #   \n",
      "=================================================================\n",
      "batch_normalization_1 (Batch (None, 75, 100, 3)        12        \n",
      "_________________________________________________________________\n",
      "conv2d_1 (Conv2D)            (None, 75, 100, 32)       896       \n",
      "_________________________________________________________________\n",
      "conv2d_2 (Conv2D)            (None, 75, 100, 32)       9248      \n",
      "_________________________________________________________________\n",
      "max_pooling2d_1 (MaxPooling2 (None, 37, 50, 32)        0         \n",
      "_________________________________________________________________\n",
      "dropout_1 (Dropout)          (None, 37, 50, 32)        0         \n",
      "_________________________________________________________________\n",
      "conv2d_3 (Conv2D)            (None, 37, 50, 64)        18496     \n",
      "_________________________________________________________________\n",
      "conv2d_4 (Conv2D)            (None, 37, 50, 64)        36928     \n",
      "_________________________________________________________________\n",
      "max_pooling2d_2 (MaxPooling2 (None, 18, 25, 64)        0         \n",
      "_________________________________________________________________\n",
      "dropout_2 (Dropout)          (None, 18, 25, 64)        0         \n",
      "_________________________________________________________________\n",
      "flatten_1 (Flatten)          (None, 28800)             0         \n",
      "_________________________________________________________________\n",
      "dense_1 (Dense)              (None, 128)               3686528   \n",
      "_________________________________________________________________\n",
      "dropout_3 (Dropout)          (None, 128)               0         \n",
      "_________________________________________________________________\n",
      "dense_2 (Dense)              (None, 7)                 903       \n",
      "=================================================================\n",
      "Total params: 3,753,011\n",
      "Trainable params: 3,753,005\n",
      "Non-trainable params: 6\n",
      "_________________________________________________________________\n"
     ]
    }
   ],
   "source": [
    "# Set model inputs\n",
    "input_shape = X_train.shape[1:]\n",
    "act = 'relu'\n",
    "n_classes = 7\n",
    "\n",
    "# Construct model\n",
    "model = Sequential()\n",
    "#model.add(BatchNormalization(input_shape=input_shape))\n",
    "model.add(Conv2D(32, kernel_size=(3, 3),activation=act,padding = 'Same',input_shape=input_shape))\n",
    "model.add(Conv2D(32,kernel_size=(3, 3), activation=act,padding = 'Same',))\n",
    "model.add(MaxPool2D(pool_size = (2, 2)))\n",
    "model.add(Dropout(0.4))\n",
    "\n",
    "model.add(Conv2D(64, (3, 3), activation=act,padding = 'Same'))\n",
    "model.add(Conv2D(64, (3, 3), activation=act,padding = 'Same'))\n",
    "model.add(MaxPool2D(pool_size=(2, 2)))\n",
    "model.add(Dropout(0.5))\n",
    "\n",
    "model.add(Flatten())\n",
    "model.add(Dense(128, activation=act))\n",
    "model.add(Dropout(0.5))\n",
    "model.add(Dense(7, activation='softmax'))\n",
    "model.summary()"
   ]
  },
  {
   "cell_type": "markdown",
   "metadata": {},
   "source": [
    "**Table 2: Model Layers and Parameters**"
   ]
  },
  {
   "cell_type": "markdown",
   "metadata": {},
   "source": [
    "The ADAM algorithm was selected for step optimisation, with an initial learning rate of 0.0001 and standard beta settings. Loss was evaluated using cross entropy. In addition to loss minimisation, Accuracy was used as the measure of model performance. ROC AUC has been shown to be a better measure in cases of imbalanced data, as it measures the ration of false postives to false negatives (Buda et al. 2018). However, there is no simple implementation in Keras.\n",
    "\n",
    "Automated learning rate reduction was also enabled using the Keras *ReduceLROnPlateau* callback function. This allowed the model to make adjustments to the learning rate during training when minimal change occured in the loss function over successive epochs. \n",
    "\n",
    "Additionally Keras allows the ability to make up for smaller dataset sizes by augmenting the input dataset. For instance, this function can rotate, zoom, shift or flip images. This allows for greater model generalisation to new data. "
   ]
  },
  {
   "cell_type": "code",
   "execution_count": 7,
   "metadata": {},
   "outputs": [],
   "source": [
    "# Define the optimizer\n",
    "optimizer = Adam(lr=0.0001, beta_1=0.9, beta_2=0.999, epsilon=None, decay=0.0, amsgrad=False)\n",
    "\n",
    "# Compile the model\n",
    "model.compile(optimizer = optimizer , loss = \"categorical_crossentropy\", metrics=[\"accuracy\"])\n",
    "\n",
    "# Set a learning rate annealer\n",
    "learning_rate_reduction = ReduceLROnPlateau(monitor='val_acc', \n",
    "                                            patience=3, \n",
    "                                            verbose=1, \n",
    "                                            factor=0.5, \n",
    "                                            min_lr=0.00001)\n",
    "\n",
    "# With data augmentation to prevent overfitting \n",
    "datagen = ImageDataGenerator(\n",
    "        featurewise_center=False,  # set input mean to 0 over the dataset\n",
    "        samplewise_center=False,  # set each sample mean to 0\n",
    "        featurewise_std_normalization=False,  # divide inputs by std of the dataset\n",
    "        samplewise_std_normalization=False,  # divide each input by its std\n",
    "        zca_whitening=False,  # apply ZCA whitening\n",
    "        rotation_range=10,  # randomly rotate images in the range (degrees, 0 to 180)\n",
    "        zoom_range = 0.1, # Randomly zoom image \n",
    "        width_shift_range=0.1,  # randomly shift images horizontally (fraction of total width)\n",
    "        height_shift_range=0.1,  # randomly shift images vertically (fraction of total height)\n",
    "        horizontal_flip=False,  # randomly flip images\n",
    "        vertical_flip=False)  # randomly flip images\n",
    "\n",
    "datagen.fit(X_train)"
   ]
  },
  {
   "cell_type": "markdown",
   "metadata": {},
   "source": [
    "Prior to model fitting, a random seed was set in order to ensure reproducibility. "
   ]
  },
  {
   "cell_type": "code",
   "execution_count": 12,
   "metadata": {},
   "outputs": [],
   "source": [
    "# Set random seed to ensure reproducability\n",
    "np.random.seed(10)      \n",
    "\n",
    "# Set training parameters and fit model\n",
    "epochs = 150 \n",
    "batch_size = 8\n",
    "history = model.fit_generator(datagen.flow(X_train,Y_train, batch_size=batch_size),\n",
    "                              epochs = epochs, validation_data = (X_val,Y_val),\n",
    "                              verbose = 1, steps_per_epoch=X_train.shape[0] // batch_size\n",
    "                              , callbacks=[learning_rate_reduction])"
   ]
  },
  {
   "cell_type": "markdown",
   "metadata": {},
   "source": [
    "Selection of the hyper-parameters involved the use of Talos. This function allows automated training of models using different combinations of hyper-parameters. Due to the many permutations resulting from feeding just a few hyper-parameter ranges and the associated training time for each model, this tool must be used with caution. In practice, the utility works well following initial rough manual selection of learning rate, epochs and batch sizes."
   ]
  },
  {
   "cell_type": "code",
   "execution_count": null,
   "metadata": {},
   "outputs": [],
   "source": [
    "# import talos\n",
    "import talos as ta\n",
    "\n",
    "# Define model inside function to be called by ta.Scan\n",
    "def rand_search(X_train, Y_train, X_val, Y_val, params):\n",
    "    conv_dropout = float(params['conv_dropout'])\n",
    "    dense1_neuron = int(params['dense1_neuron'])\n",
    "\n",
    "    # Construct model\n",
    "    model = Sequential()\n",
    "#    model.add(BatchNormalization(input_shape=X_train.shape[1:]))\n",
    "    model.add(Conv2D(32, (3, 3), padding='same', activation=params['activation']))\n",
    "    model.add(MaxPool2D(pool_size = (2, 2)))\n",
    "    model.add(Dropout(conv_dropout))\n",
    "\n",
    "    model.add(BatchNormalization(input_shape=X_train.shape[1:]))\n",
    "    model.add(Conv2D(64, (3, 3), padding='same', activation=params['activation']))\n",
    "    model.add(MaxPool2D(pool_size = (2, 2)))\n",
    "    model.add(Dropout(conv_dropout))\n",
    "\n",
    "    # Extra layers used during random search\n",
    "#    model.add(BatchNormalization(input_shape=X_train.shape[1:]))\n",
    "#    model.add(Conv2D(256, (5, 5), padding='same', activation=params['activation']))\n",
    "#    model.add(MaxPool2D(pool_size = (2, 2)))\n",
    "#    model.add(Dropout(conv_dropout))\n",
    "\n",
    "    model.add(Flatten())\n",
    "    model.add(Dense(dense1_neuron, activation=params['activation']))\n",
    "    model.add(Dropout(0.5))\n",
    "    model.add(Dense(n_classes, activation='softmax'))\n",
    "    model.summary()\n",
    "    \n",
    "    # Compile model\n",
    "    model.compile(\n",
    "        optimizer='adam',\n",
    "        loss='categorical_crossentropy',\n",
    "        metrics=['accuracy']\n",
    "    )\n",
    "    \n",
    "    # Set training parameters and fit model\n",
    "    out = model.fit(\n",
    "        x, y, epochs=50, \n",
    "        batch_size=10, \n",
    "        verbose=1,\n",
    "        validation_data=[x_val, y_val],\n",
    "        callbacks=[learning_rate_reduction]\n",
    "    )\n",
    "    return out, model\n",
    "\n",
    "# Set ranges for hyper-parameter optimisation\n",
    "para = {\n",
    "    'dense1_neuron': [128, 256],\n",
    "    'activation': ['relu', 'elu'],\n",
    "    'conv_dropout': [0.2, 0.4, 0.5]\n",
    "}\n",
    "\n",
    "# Start scan using input data (validation sets created automatically)\n",
    "scan_results = ta.Scan(X_train, Y_train, para, rand_search)"
   ]
  },
  {
   "cell_type": "markdown",
   "metadata": {},
   "source": [
    "Due to the data imbalance issue (ref. Methodology), the InceptionV3 model from ImageNet was tested as the base for a Transfer Learning CNN. "
   ]
  },
  {
   "cell_type": "code",
   "execution_count": null,
   "metadata": {},
   "outputs": [],
   "source": [
    "# Load InceptionV3 model from keras and associated modules\n",
    "from keras.applications import InceptionV3\n",
    "from keras.layers import GlobalAveragePooling2D\n",
    "from keras.models import Model\n",
    "from keras.applications.inception_v3 import preprocess_input\n",
    "\n",
    "# Set InceptionV3 as the base model, exluding the fully connected top layer\n",
    "base_model = InceptionV3(weights='imagenet', include_top=False)\n",
    "# Fix the model weights\n",
    "for layer in base_model.layers:\n",
    "    layer.trainable = False\n",
    "\n",
    "# Set additional base model parameters\n",
    "x = base_model.output\n",
    "x = GlobalAveragePooling2D(name='avg_pool')(x)\n",
    "x = Dropout(0.4)(x)\n",
    "# Set fully connected layer parameters\n",
    "predictions = Dense(n_classes, activation='softmax')(x)\n",
    "model = Model(inputs=base_model.input, outputs=predictions)\n",
    "\n",
    "# Compile model\n",
    "model.compile(optimizer=optimizer,\n",
    "              loss='categorical_crossentropy',\n",
    "              metrics=['accuracy'])\n",
    "\n",
    "# Set training parameters and fit model\n",
    "epochs = 50 \n",
    "batch_size = 15\n",
    "history = model.fit_generator(datagen.flow(X_train,Y_train, batch_size=batch_size),\n",
    "                              epochs = epochs, validation_data = (X_val,Y_val),\n",
    "                              verbose = 1, steps_per_epoch=X_train.shape[0] // batch_size\n",
    "                              , callbacks=[learning_rate_reduction])"
   ]
  },
  {
   "cell_type": "markdown",
   "metadata": {},
   "source": [
    "After finalising the model it was saved as an *hdf5* file. The training history dictionary was parsed for the loss and accuracy data, converted into a dataframe and cached."
   ]
  },
  {
   "cell_type": "code",
   "execution_count": null,
   "metadata": {},
   "outputs": [],
   "source": [
    "# Save model (uncomment to use)\n",
    "#model.save(os.path.join(project_dir,\"tests\",\"cnn\"+test_n+\".hdf5\"))\n",
    "\n",
    "# Convert model training history dictionary to dataframe for plotting\n",
    "hist_df = pd.DataFrame(history.history['acc'])\n",
    "hist_df.columns = ['train_acc']\n",
    "hist_df['train_loss'] = pd.DataFrame(history.history['loss'])\n",
    "hist_df['val_acc'] = pd.DataFrame(history.history['val_acc'])\n",
    "hist_df['val_loss'] = pd.DataFrame(history.history['val_loss'])\n",
    "hist_df['lr'] = pd.DataFrame(history.history['lr'])\n",
    "hist_df['epoch'] = epochs\n",
    "\n",
    "# Cache history df (uncomment to use)\n",
    "#hist_df.to_pickle(os.path.join(project_dir,\"cache\",\"hist_df_\"+test_n+\".p\"))"
   ]
  },
  {
   "cell_type": "markdown",
   "metadata": {},
   "source": [
    "# Results\n",
    "The results show that even this simple implementation of a CNN can be an effect diagnostic tool for skin cancer. As per Table 3, the test data applied to the model achieved a predictive accuracy of 78.1 percent over the seven classes. This was in alignment with the accuracy performance measured on the validation data during training (78.7%).\n",
    "\n",
    "The effects of the model weight optimisation algorithm can be seen in Figures 1 and 2. Over the course of 150 epochs the training accuracy continues to improve in accuracy and loss minimisation. However, the corresponding validation performance plateaus after approximately 20 epochs. The gap between the two curves on each plot suggests overfitting. This is confirmed by the measuring the performance using the test data (ref. Table 3). The test data performance closely matches the validation set."
   ]
  },
  {
   "cell_type": "code",
   "execution_count": 129,
   "metadata": {},
   "outputs": [],
   "source": [
    "# Load cached model\n",
    "from keras.models import load_model\n",
    "model = load_model(os.path.join(project_dir,\"tests\",\"cnn_\"+test_n+\".hdf5\"))\n",
    "\n",
    "# Load cached metadata df\n",
    "hist_df = pd.read_pickle(os.path.join(project_dir,\"cache\",\"hist_df_\"+test_n+\".p\"))"
   ]
  },
  {
   "cell_type": "code",
   "execution_count": null,
   "metadata": {},
   "outputs": [],
   "source": [
    "# Construct dataframe to hold Test and Validation evaluation metrics\n",
    "results_df = pd.DataFrame(['Loss','Accuracy'])\n",
    "results_df.columns = ['Metric']\n",
    "results_df['Test Data'] = pd.DataFrame(model.evaluate(X_test, Y_test, verbose=0))\n",
    "results_df['Validation Data'] = pd.DataFrame(model.evaluate(X_val, Y_val, verbose=0))\n",
    "# Cache results df (uncomment to use)\n",
    "#results_df.to_pickle(os.path.join(project_dir,\"cache\",\"results_df_\"+test_n+\".p\"))"
   ]
  },
  {
   "cell_type": "code",
   "execution_count": 130,
   "metadata": {
    "scrolled": true
   },
   "outputs": [
    {
     "data": {
      "text/html": [
       "<div>\n",
       "<style scoped>\n",
       "    .dataframe tbody tr th:only-of-type {\n",
       "        vertical-align: middle;\n",
       "    }\n",
       "\n",
       "    .dataframe tbody tr th {\n",
       "        vertical-align: top;\n",
       "    }\n",
       "\n",
       "    .dataframe thead th {\n",
       "        text-align: right;\n",
       "    }\n",
       "</style>\n",
       "<table border=\"1\" class=\"dataframe\">\n",
       "  <thead>\n",
       "    <tr style=\"text-align: right;\">\n",
       "      <th></th>\n",
       "      <th>Metric</th>\n",
       "      <th>Test Data</th>\n",
       "      <th>Validation Data</th>\n",
       "    </tr>\n",
       "  </thead>\n",
       "  <tbody>\n",
       "    <tr>\n",
       "      <th>0</th>\n",
       "      <td>Loss</td>\n",
       "      <td>0.618488</td>\n",
       "      <td>0.612541</td>\n",
       "    </tr>\n",
       "    <tr>\n",
       "      <th>1</th>\n",
       "      <td>Accuracy</td>\n",
       "      <td>0.781437</td>\n",
       "      <td>0.787140</td>\n",
       "    </tr>\n",
       "  </tbody>\n",
       "</table>\n",
       "</div>"
      ],
      "text/plain": [
       "     Metric  Test Data  Validation Data\n",
       "0      Loss   0.618488         0.612541\n",
       "1  Accuracy   0.781437         0.787140"
      ]
     },
     "execution_count": 130,
     "metadata": {},
     "output_type": "execute_result"
    }
   ],
   "source": [
    "# Load cached metadata df\n",
    "results_df = pd.read_pickle(os.path.join(project_dir,\"cache\",\"results_df_\"+test_n+\".p\"))\n",
    "results_df"
   ]
  },
  {
   "cell_type": "markdown",
   "metadata": {},
   "source": [
    "**Table 3: Model Evaluation using Test and Validation Data**"
   ]
  },
  {
   "cell_type": "code",
   "execution_count": 131,
   "metadata": {},
   "outputs": [],
   "source": [
    "# Make sliced copies of hist_df for plotting\n",
    "hist_df_acc = hist_df.drop({'train_loss','val_loss','lr'}, axis=1)\n",
    "hist_df_loss = hist_df.drop({'train_acc','val_acc','lr'}, axis=1)"
   ]
  },
  {
   "cell_type": "code",
   "execution_count": 153,
   "metadata": {
    "scrolled": false
   },
   "outputs": [
    {
     "data": {
      "image/png": "[encoded data removed]",
      "text/plain": [
       "<Figure size 792x576 with 1 Axes>"
      ]
     },
     "metadata": {},
     "output_type": "display_data"
    }
   ],
   "source": [
    "# Import ggplot (note - need to manually edit pandas lib import import call in ggplot folder for loading to work in py3.6)\n",
    "from ggplot import *\n",
    "\n",
    "# Plot Training Accuracy\n",
    "p1 = ggplot(pd.melt(hist_df_acc, id_vars=['epoch']), aes(x='epoch', y='value', color='variable')) +\\\n",
    "    geom_line() +\\\n",
    "    xlab(\"Epoch\") + ylab(\"Accuracy (%)\") + ggtitle(\"Training Accuracy\")\n",
    "\n",
    "# Save plot\n",
    "ggplot.save(p1, filename=os.path.join(project_dir,\"graphs\",'Acc_'+test_n+'.pdf'))"
   ]
  },
  {
   "cell_type": "code",
   "execution_count": 154,
   "metadata": {
    "scrolled": true
   },
   "outputs": [
    {
     "data": {
      "image/png": "[encoded data removed]",
      "text/plain": [
       "<Figure size 792x576 with 1 Axes>"
      ]
     },
     "metadata": {},
     "output_type": "display_data"
    }
   ],
   "source": [
    "# Plot Training Loss\n",
    "p2 = ggplot(pd.melt(hist_df_loss, id_vars=['epoch']), aes(x='epoch', y='value', color='variable')) +\\\n",
    "    geom_line() +\\\n",
    "    xlab(\"Epoch\") + ylab(\"Loss (%)\") + ggtitle(\"Training Loss\")\n",
    "\n",
    "# Save plot\n",
    "ggplot.save(p2, filename=os.path.join(project_dir,\"graphs\",'Loss_'+test_n+'.pdf'))"
   ]
  },
  {
   "cell_type": "markdown",
   "metadata": {},
   "source": [
    "As previously discussed (ref. Data Understanding), due to the imbalance in the dataset, overall accuracy is not the best metric for assessing model performance. In such cases, the area under the receiver operator characteristics curve (ROC AUC) provides a better measure (Buda et al. 2018). The ROC AUC builds on the data inherent in a confusion matrix by plotting the rate of true positives to false positives. ROC AUC characterises the ability of the model to distinguish between classes by visualising and quantifying the amount of type 1 and type 2 error (false positives and false negatives). Perfect classification performance would result in a ROC AUC equal to 1 for the classifier. In a multi-class context, the calculation uses the 'One vs. All' methodology where the curve for each classifier signifies the classification accuracy for that classifier compared to all other classifiers.\n",
    "\n",
    "Figure 3 demonstrates the ROC AUC plot for the final model. As can be seen, the ROC AUC performance varies for each classifier. The difference in representation of each classifier is represented by the respective resolution. Referring to Table 4, classes with smaller sample representation are display rough curves on the ROC plot (eg. df and vasc), whereas classes with higher frequency display much smoother curves (eg. nv and mel). The rough curves for the small sample classes indicates that less certainty can be places in classification performance metric for these classes. Overall, the ROC plot indicates good classification performance with an average of 0.92. "
   ]
  },
  {
   "cell_type": "code",
   "execution_count": 53,
   "metadata": {},
   "outputs": [],
   "source": [
    "# Compute y_score (uncomment to use for new analyses)\n",
    "#y_score = model.predict(X_test)\n",
    "\n",
    "# Cache y_score (uncomment to use for new analyses)\n",
    "#np.save(os.path.join(project_dir,\"cache\",\"y_score_\"+test_n+\".npy\"), y_score)"
   ]
  },
  {
   "cell_type": "code",
   "execution_count": 134,
   "metadata": {},
   "outputs": [],
   "source": [
    "# Load cached y_score\n",
    "y_score = np.load(os.path.join(project_dir,\"cache\",\"y_score_\"+test_n+\".npy\"))"
   ]
  },
  {
   "cell_type": "code",
   "execution_count": 155,
   "metadata": {
    "scrolled": false
   },
   "outputs": [
    {
     "data": {
      "image/png": "[encoded data removed]",
      "text/plain": [
       "<Figure size 432x288 with 1 Axes>"
      ]
     },
     "metadata": {
      "needs_background": "light"
     },
     "output_type": "display_data"
    }
   ],
   "source": [
    "##### ROC AUC Plot\n",
    "# Source: https://www.dlology.com/blog/simple-guide-on-how-to-generate-roc-plot-for-keras-classifier/\n",
    "\n",
    "import numpy as np\n",
    "from scipy import interp\n",
    "import matplotlib.pyplot as plt\n",
    "from matplotlib.pyplot import savefig\n",
    "from itertools import cycle\n",
    "from sklearn.metrics import roc_curve, auc\n",
    "\n",
    "# Plot linewidth.\n",
    "lw = 2\n",
    "\n",
    "# Compute ROC curve and ROC area for each class\n",
    "fpr = dict()\n",
    "tpr = dict()\n",
    "roc_auc = dict()\n",
    "for i in range(n_classes):\n",
    "    fpr[i], tpr[i], _ = roc_curve(Y_test[:, i], y_score[:, i])\n",
    "    roc_auc[i] = auc(fpr[i], tpr[i])\n",
    "\n",
    "# Compute micro-average ROC curve and ROC area\n",
    "fpr[\"micro\"], tpr[\"micro\"], _ = roc_curve(Y_test.ravel(), y_score.ravel())\n",
    "roc_auc[\"micro\"] = auc(fpr[\"micro\"], tpr[\"micro\"])\n",
    "\n",
    "# Compute macro-average ROC curve and ROC area\n",
    "\n",
    "# First aggregate all false positive rates\n",
    "all_fpr = np.unique(np.concatenate([fpr[i] for i in range(n_classes)]))\n",
    "\n",
    "# Then interpolate all ROC curves at this points\n",
    "mean_tpr = np.zeros_like(all_fpr)\n",
    "for i in range(n_classes):\n",
    "    mean_tpr += interp(all_fpr, fpr[i], tpr[i])\n",
    "\n",
    "# Finally average it and compute AUC\n",
    "mean_tpr /= n_classes\n",
    "\n",
    "fpr[\"macro\"] = all_fpr\n",
    "tpr[\"macro\"] = mean_tpr\n",
    "roc_auc[\"macro\"] = auc(fpr[\"macro\"], tpr[\"macro\"])\n",
    "\n",
    "# Plot all ROC curves\n",
    "plt.figure(1)\n",
    "#plt.plot(fpr[\"micro\"], tpr[\"micro\"],\n",
    "         #label='micro-average (AUC = {0:0.2f})'\n",
    "               #''.format(roc_auc[\"micro\"]),\n",
    "         #color='deeppink', linestyle=':', linewidth=4)\n",
    "\n",
    "plt.plot(fpr[\"macro\"], tpr[\"macro\"],\n",
    "         label='macro-average (AUC = {0:0.2f})'\n",
    "               ''.format(roc_auc[\"macro\"]),\n",
    "         color='navy', linestyle=':', linewidth=4)\n",
    "\n",
    "colors = cycle(['aqua', 'orange', 'blue','red','green','yellow','gray'])\n",
    "for i, color in zip(range(n_classes), colors):\n",
    "    plt.plot(fpr[i], tpr[i], color=color, lw=lw,\n",
    "             label='{0} (AUC = {1:0.2f})'\n",
    "             ''.format(class_list[i], roc_auc[i]))\n",
    "\n",
    "# Removed 50-50 curve as relevance is questionable in multi-class context (MT)\n",
    "#plt.plot([0, 1], [0, 1], 'k--', lw=lw)\n",
    "plt.xlim([0.0, 1.0])\n",
    "plt.ylim([0.0, 1.05])\n",
    "plt.xlabel('False Positive Rate')\n",
    "plt.ylabel('True Positive Rate')\n",
    "plt.title('Multi-Classifier ROC AUC (One vs. All)')\n",
    "plt.legend(loc=\"lower right\")\n",
    "#plt.show()\n",
    "savefig(os.path.join(project_dir,\"graphs\",'ROC_'+test_n+'.pdf'))"
   ]
  },
  {
   "cell_type": "code",
   "execution_count": 127,
   "metadata": {
    "scrolled": true
   },
   "outputs": [
    {
     "data": {
      "text/html": [
       "<div>\n",
       "<style scoped>\n",
       "    .dataframe tbody tr th:only-of-type {\n",
       "        vertical-align: middle;\n",
       "    }\n",
       "\n",
       "    .dataframe tbody tr th {\n",
       "        vertical-align: top;\n",
       "    }\n",
       "\n",
       "    .dataframe thead th {\n",
       "        text-align: right;\n",
       "    }\n",
       "</style>\n",
       "<table border=\"1\" class=\"dataframe\">\n",
       "  <thead>\n",
       "    <tr style=\"text-align: right;\">\n",
       "      <th></th>\n",
       "      <th>n</th>\n",
       "      <th>dx</th>\n",
       "    </tr>\n",
       "    <tr>\n",
       "      <th>Class #</th>\n",
       "      <th></th>\n",
       "      <th></th>\n",
       "    </tr>\n",
       "  </thead>\n",
       "  <tbody>\n",
       "    <tr>\n",
       "      <th>0</th>\n",
       "      <td>327</td>\n",
       "      <td>akiec</td>\n",
       "    </tr>\n",
       "    <tr>\n",
       "      <th>1</th>\n",
       "      <td>514</td>\n",
       "      <td>bcc</td>\n",
       "    </tr>\n",
       "    <tr>\n",
       "      <th>2</th>\n",
       "      <td>1099</td>\n",
       "      <td>bkl</td>\n",
       "    </tr>\n",
       "    <tr>\n",
       "      <th>3</th>\n",
       "      <td>115</td>\n",
       "      <td>df</td>\n",
       "    </tr>\n",
       "    <tr>\n",
       "      <th>4</th>\n",
       "      <td>1113</td>\n",
       "      <td>mel</td>\n",
       "    </tr>\n",
       "    <tr>\n",
       "      <th>5</th>\n",
       "      <td>6705</td>\n",
       "      <td>nv</td>\n",
       "    </tr>\n",
       "    <tr>\n",
       "      <th>6</th>\n",
       "      <td>142</td>\n",
       "      <td>vasc</td>\n",
       "    </tr>\n",
       "  </tbody>\n",
       "</table>\n",
       "</div>"
      ],
      "text/plain": [
       "            n     dx\n",
       "Class #             \n",
       "0         327  akiec\n",
       "1         514    bcc\n",
       "2        1099    bkl\n",
       "3         115     df\n",
       "4        1113    mel\n",
       "5        6705     nv\n",
       "6         142   vasc"
      ]
     },
     "execution_count": 127,
     "metadata": {},
     "output_type": "execute_result"
    }
   ],
   "source": [
    "# Display table of classifiers including n\n",
    "class_df.insert(0, 'Class #', range(0,len(class_df)))\n",
    "class_df = class_df.set_index('Class #')\n",
    "class_df"
   ]
  },
  {
   "cell_type": "markdown",
   "metadata": {},
   "source": [
    "**Table 4: Labels by Class Number**"
   ]
  },
  {
   "cell_type": "markdown",
   "metadata": {},
   "source": [
    "# Conclusion\n",
    "The model building process articulated above demonstrates the viability of the use of CNNs in the diagnosis of skin cancer. With easily attainable open source and cloud computing resources, an diagnostic tool providing high accuracy was constructed to aid primary healthcare workers at point of care. Further extension of this proof-of-concept would involve construction of a user interface and input pipeline. This would most likely constitute an Android application to be run on a smartphone. Users would photograph the suspect skin lesion using a smartphone camera through the app, which would then run the image through the deployed model and output the estimated classification including confidence levels based on the ROC AUC metric.\n",
    "\n",
    "This study has also elucidated challenges for further research. For instance, the problems with imbalanced input data (ref. Data Understanding) are still an open research area (Buda et al. 2018). Mitigation strategies such as data augmentation and SMOTE only go so far. It is possible enhanced augmentation of minority classes could be achieved using separate neural networks as is the case with generative adversarial networks (GAN). However, the main issue is the requirement for increased quantities of quality, labeled data. Automating collection or crowdsourcing of these data are other areas that could be explored."
   ]
  },
  {
   "cell_type": "markdown",
   "metadata": {},
   "source": [
    "# Research Notes\n",
    "\n",
    "This project presented me with the opportunity to explore CNNs and general neural networks to a much deeper level than had been covered in the lecture material. Building on the module reading list, I completed Standford University's CS231n module on CNNs. In addition I researched many papers related to the challenges involved in machine learning for medical imaging diagnostics, as well as batch normalisation, transfer learning and class imbalance.\n",
    "\n",
    "Furthermore, the implementation of the models has broadened my practical skillset. Working exclusively in python was beneficial for my coding skills, but as I faced many challenges related to dependencies and software, it also gave me a key understanding of the importance of properly allocating environments. The hardware necessary for building neural network models was also new to me, having not worked previously with GPUs. Migrating to an Azure NC6 VM allowed me to work from home outside of business hours, as well as solving ongoing issues running Keras on my local machine.\n",
    "\n",
    "Training and optimising the models themselves was a difficult process. There appears to be no standard for best practice in model optimisation, rather just many different rules of thumb. As the training time is considerable for certain implementations, this created a bottleneck to progression at times.\n",
    "\n",
    "Overall this was an excellent experience for immersion in CNNs. The project familiarised me with deep domain knowledge, and the tools neccessary with which to implement CNNs efficiently and effectively. "
   ]
  },
  {
   "cell_type": "markdown",
   "metadata": {},
   "source": [
    "# References\n",
    "\n",
    "\n",
    "@article{Shen2017,\n",
    "author ={Shen, Dinggang and Wu, Guorong and Suk, Heung-Il}, \n",
    "title = {Deep Learning in Medical Image Analysis}, \n",
    "journal = {Annual Review of Biomedical Engineering}, \n",
    "volume = {19}, \n",
    "number = {1}, \n",
    "pages ={221-248}, \n",
    "year = {2017}, \n",
    "doi = {10.1146/annurev-bioeng-071516-044442}, \n",
    "note ={PMID: 28301734},\n",
    "}\n",
    "\n",
    "\n",
    "\n",
    "@article{Higgins2014,\n",
    "\tAuthor = {Higgins H William 2nd;C Lee Kachiu; Leffell David J},\n",
    "\tDate = {2014/05/06},\n",
    "\tDate-Added = {2019-01-23 16:46:13 +0000},\n",
    "\tDate-Modified = {2019-01-23 16:46:13 +0000},\n",
    "\tDb = {PubMed},\n",
    "\tDoi = {10.12703/P6-34},\n",
    "\tIsbn = {2051-7599; 2051-7599},\n",
    "\tJ1 = {F1000Prime Rep},\n",
    "\tJournal = {F1000prime reports},\n",
    "\tL2 = {https://www.ncbi.nlm.nih.gov/pmc/PMC4017910/},\n",
    "\tMonth = {05},\n",
    "\tPages = {34; 34--34},\n",
    "\tPublisher = {Faculty of 1000 Ltd},\n",
    "\tTitle = {Point of care cutaneous imaging technology in melanoma screening and mole mapping},\n",
    "\tTy = {JOUR},\n",
    "\tU1 = {24860656{$[$}pmid{$]$}},\n",
    "\tU2 = {PMC4017910{$[$}pmcid{$]$}},\n",
    "\tU4 = {34{$[$}PII{$]$}},\n",
    "\tUrl = {https://www.ncbi.nlm.nih.gov/pubmed/24860656},\n",
    "\tVolume = {6},\n",
    "\tYear = {2014},\n",
    "\tBdsk-Url-1 = {https://www.ncbi.nlm.nih.gov/pubmed/24860656},\n",
    "\tBdsk-Url-2 = {https://doi.org/10.12703/P6-34}}\n",
    "\n",
    "\n",
    "@article{Siegel2018,\n",
    "author = {Siegel, Rebecca L. and Miller, Kimberly D. and Jemal, Ahmedin},\n",
    "title = {Cancer statistics, 2018},\n",
    "journal = {CA: A Cancer Journal for Clinicians},\n",
    "volume = {68},\n",
    "number = {1},\n",
    "pages = {7-30},\n",
    "keywords = {cancer cases, cancer statistics, death rates, incidence, mortality},\n",
    "doi = {10.3322/caac.21442},\n",
    "url = {https://onlinelibrary.wiley.com/doi/abs/10.3322/caac.21442},\n",
    "eprint = {https://onlinelibrary.wiley.com/doi/pdf/10.3322/caac.21442},\n",
    "year = {2018}\n",
    "}\n",
    "\n",
    "\n",
    "@article{Abbasi2004,\n",
    "author = {Abbasi NR and Shaw HM and Rigel DS and et al},\n",
    "title = {Early diagnosis of cutaneous melanoma: Revisiting the abcd criteria},\n",
    "journal = {JAMA},\n",
    "volume = {292},\n",
    "number = {22},\n",
    "pages = {2771-2776},\n",
    "year = {2004},\n",
    "doi = {10.1001/jama.292.22.2771},\n",
    "URL = { + http://dx.doi.org/10.1001/jama.292.22.2771},\n",
    "eprint = {/data/journals/jama/4955/jcr40044.pdf}\n",
    "}\n",
    "\n",
    "\n",
    "\n",
    "@article{Ebell2008,\n",
    "author = {Ebell, Mark},\n",
    "title = {Clinical diagnosis of melanoma},\n",
    "journal = {American Family Physician},\n",
    "volume = {15},\n",
    "number = {78},\n",
    "pages = {1205-1208},\n",
    "year = {2008},\n",
    "}\n",
    "\n",
    "\n",
    "@article{Tschandl2018,\n",
    "  author    = {Philipp Tschandl and\n",
    "               Cliff Rosendahl and\n",
    "               Harald Kittler},\n",
    "  title     = {The {HAM10000} Dataset: {A} Large Collection of Multi-Source Dermatoscopic\n",
    "               Images of Common Pigmented Skin Lesions},\n",
    "  journal   = {CoRR},\n",
    "  volume    = {abs/1803.10417},\n",
    "  year      = {2018},\n",
    "  url       = {http://arxiv.org/abs/1803.10417},\n",
    "  archivePrefix = {arXiv},\n",
    "  eprint    = {1803.10417},\n",
    "  timestamp = {Mon, 13 Aug 2018 16:48:02 +0200},\n",
    "  biburl    = {https://dblp.org/rec/bib/journals/corr/abs-1803-10417},\n",
    "  bibsource = {dblp computer science bibliography, https://dblp.org}\n",
    "}\n",
    "\n",
    "\n",
    "@article{Buda2018,\n",
    "  author    = {Mateusz Buda and\n",
    "               Atsuto Maki and\n",
    "               Maciej A. Mazurowski},\n",
    "  title     = {A systematic study of the class imbalance problem in convolutional\n",
    "               neural networks},\n",
    "  journal   = {CoRR},\n",
    "  volume    = {abs/1710.05381},\n",
    "  year      = {2017},\n",
    "  url       = {http://arxiv.org/abs/1710.05381},\n",
    "  archivePrefix = {arXiv},\n",
    "  eprint    = {1710.05381},\n",
    "  timestamp = {Mon, 13 Aug 2018 16:47:52 +0200},\n",
    "  biburl    = {https://dblp.org/rec/bib/journals/corr/abs-1710-05381},\n",
    "  bibsource = {dblp computer science bibliography, https://dblp.org}\n",
    "}\n",
    "\n",
    "@article{Ramcharan2017,\n",
    "  author    = {Amanda Ramcharan and\n",
    "               Kelsee Baranowski and\n",
    "               Peter McClowsky and\n",
    "               Babuali Ahmed and\n",
    "               James Legg and\n",
    "               David Hughes},\n",
    "  title     = {Using Transfer Learning for Image-Based Cassava Disease Detection},\n",
    "  journal   = {CoRR},\n",
    "  volume    = {abs/1707.03717},\n",
    "  year      = {2017},\n",
    "  url       = {http://arxiv.org/abs/1707.03717},\n",
    "  archivePrefix = {arXiv},\n",
    "  eprint    = {1707.03717},\n",
    "  timestamp = {Mon, 13 Aug 2018 16:46:06 +0200},\n",
    "  biburl    = {https://dblp.org/rec/bib/journals/corr/RamcharanBMALH17},\n",
    "  bibsource = {dblp computer science bibliography, https://dblp.org}\n",
    "}\n",
    "\n",
    "@article{Szegedy2015,\n",
    "  author    = {Sergey Ioffe and\n",
    "               Christian Szegedy},\n",
    "  title     = {Batch Normalization: Accelerating Deep Network Training by Reducing\n",
    "               Internal Covariate Shift},\n",
    "  journal   = {CoRR},\n",
    "  volume    = {abs/1502.03167},\n",
    "  year      = {2015},\n",
    "  url       = {http://arxiv.org/abs/1502.03167},\n",
    "  archivePrefix = {arXiv},\n",
    "  eprint    = {1502.03167},\n",
    "  timestamp = {Mon, 13 Aug 2018 16:47:06 +0200},\n",
    "  biburl    = {https://dblp.org/rec/bib/journals/corr/IoffeS15},\n",
    "  bibsource = {dblp computer science bibliography, https://dblp.org}\n",
    "}"
   ]
  }
 ],
 "metadata": {
  "kernelspec": {
   "display_name": "Python [conda env:ds36]",
   "language": "python",
   "name": "conda-env-ds36-py"
  },
  "language_info": {
   "codemirror_mode": {
    "name": "ipython",
    "version": 3
   },
   "file_extension": ".py",
   "mimetype": "text/x-python",
   "name": "python",
   "nbconvert_exporter": "python",
   "pygments_lexer": "ipython3",
   "version": "3.6.6"
  }
 },
 "nbformat": 4,
 "nbformat_minor": 2
}
